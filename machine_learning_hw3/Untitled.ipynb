{
 "cells": [
  {
   "cell_type": "code",
   "execution_count": 42,
   "metadata": {},
   "outputs": [],
   "source": [
    "from autograd import numpy as np\n",
    "from sklearn.externals import joblib\n",
    "import matplotlib.pyplot as plt\n",
    "from autograd import grad\n",
    "from sklearn.datasets import fetch_mldata\n",
    "import random\n",
    "mnist = fetch_mldata('MNIST original')\n",
    "\n",
    "# strip off input / output pairs\n",
    "x = mnist.data.T\n",
    "y = mnist.target[np.newaxis,:]\n",
    "\n",
    "\n",
    "num_sample = 50000\n",
    "inds = np.random.permutation(y.shape[1])[:num_sample]\n",
    "x_sample = x[:,inds]\n",
    "y = y[:,inds]\n",
    "x_mean = np.mean(x_sample,axis = 0);\n",
    "x_std = np.std(x_sample,axis = 0);\n",
    "x = (x_sample - x_mean) / (x_std + 0.000001)\n",
    "\n",
    "\n",
    "def gradient_descent(g,alpha,max_its,w):\n",
    "\n",
    "    gradient = grad(g)\n",
    "    weight_history = [w] # weight history container\n",
    "    cost_history = [g(w)] # cost function history container\n",
    "    wrong_his = [count_wrong(w)]\n",
    "    for k in range(max_its):\n",
    "        # evaluate the gradient\n",
    "        grad_eval = gradient(w)\n",
    "\n",
    "        # take gradient descent step\n",
    "        w = w - alpha * grad_eval\n",
    "        # record weight and cost\n",
    "        weight_history.append(w)\n",
    "        cost_history.append(g(w))\n",
    "        wrong_his.append(min(count_wrong(w),min(wrong_his)))\n",
    "    return weight_history,cost_history,wrong_his  \n",
    "def model(x,w):\n",
    "    a = w[0] + np.dot(x.T,w[1:])\n",
    "    return a.T\n",
    "\n",
    "def multiclass_perceptron(w):\n",
    "    # pre-compute predictions on all points\n",
    "    all_evals = model(x,w)\n",
    "    all_evals_tmp = np.exp(all_evals)\n",
    "    # compute maximum across data points\n",
    "    a = np.log(np.sum(all_evals_tmp,axis = 0))\n",
    "    # compute cost in compact form using numpy broadcasting\n",
    "    b = all_evals[y.astype(int).flatten(),np.arange(np.size(y))]\n",
    "    cost = np.sum(a - b)\n",
    "    \n",
    "    # add regularizer\n",
    "    cost = cost + 0.000001*np.linalg.norm(w[1:,:],'fro')**2\n",
    "    \n",
    "    # return average\n",
    "    return cost/float(np.size(y))\n",
    "\n",
    "def count_wrong(w):\n",
    "    pre = model(x,w)\n",
    "    return np.where(np.argmax(pre,axis=0) != y[0])[0].shape[0]\n",
    "N = x.shape[0]\n",
    "C = len(np.unique(y))\n",
    "w = 0.1*np.random.randn(N+1,C)#initialize weights\n",
    "\n",
    "alpha = 0.1\n",
    "max_its = 100\n",
    "weight_his,cost_his,wrong_his = gradient_descent(multiclass_perceptron,alpha,max_its,w)#standard_result"
   ]
  },
  {
   "cell_type": "code",
   "execution_count": 43,
   "metadata": {},
   "outputs": [],
   "source": [
    "import data_transformer\n",
    "x = data_transformer.edge_transformer(x)"
   ]
  },
  {
   "cell_type": "code",
   "execution_count": 44,
   "metadata": {},
   "outputs": [],
   "source": [
    "N = x.shape[0]\n",
    "w = 0.1*np.random.randn(N+1,C)\n",
    "alpha = 0.1\n",
    "weight_his1,cost_his1,wrong_his1 = gradient_descent(multiclass_perceptron,alpha,max_its,w)#standard_result"
   ]
  },
  {
   "cell_type": "code",
   "execution_count": 45,
   "metadata": {},
   "outputs": [
    {
     "data": {
      "image/png": "[encoded data removed]",
      "text/plain": [
       "<Figure size 720x432 with 1 Axes>"
      ]
     },
     "metadata": {
      "needs_background": "light"
     },
     "output_type": "display_data"
    }
   ],
   "source": [
    "plt.figure(figsize = (10,6))\n",
    "plt.plot([i for i in range(len(wrong_his))],wrong_his,'black')\n",
    "plt.plot([i for i in range(len(wrong_his1))],wrong_his1,'r')\n",
    "plt.ylabel('misclassification numbers')\n",
    "plt.xlabel('epoch')\n",
    "plt.legend(['$origin$','$edge$'])\n",
    "plt.show()"
   ]
  },
  {
   "cell_type": "code",
   "execution_count": null,
   "metadata": {},
   "outputs": [],
   "source": []
  }
 ],
 "metadata": {
  "kernelspec": {
   "display_name": "Python 3",
   "language": "python",
   "name": "python3"
  },
  "language_info": {
   "codemirror_mode": {
    "name": "ipython",
    "version": 3
   },
   "file_extension": ".py",
   "mimetype": "text/x-python",
   "name": "python",
   "nbconvert_exporter": "python",
   "pygments_lexer": "ipython3",
   "version": "3.7.0"
  }
 },
 "nbformat": 4,
 "nbformat_minor": 2
}
