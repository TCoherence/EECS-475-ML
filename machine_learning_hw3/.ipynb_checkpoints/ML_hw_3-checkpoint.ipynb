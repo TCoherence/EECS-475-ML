{
 "cells": [
  {
   "cell_type": "markdown",
   "metadata": {},
   "source": [
    "Please perform the following exercises, each of which is worth $10$ points.  The instructions for most can be found at the end of the Chapter notes, however several include additional information / starter code which is provided below.  **Use the version of the chapter notes included in this homework folder to complete the exercises.**"
   ]
  },
  {
   "cell_type": "markdown",
   "metadata": {},
   "source": [
    " - **Chapter 9:** Exercise 2\n",
    " \n",
    " - **Chapter 10:** Exercises 1,2, and 9"
   ]
  },
  {
   "cell_type": "markdown",
   "metadata": {},
   "source": [
    "# Exercise 9.2: MNIST classification: pixels vs edge-based features"
   ]
  },
  {
   "cell_type": "markdown",
   "metadata": {},
   "source": [
    "Load in data."
   ]
  },
  {
   "cell_type": "code",
   "execution_count": 2,
   "metadata": {},
   "outputs": [
    {
     "name": "stdout",
     "output_type": "stream",
     "text": [
      "input shape =  (784, 70000)\n",
      "output shape =  (1, 70000)\n",
      "x =  [[0 0 0 ... 0 0 0]\n",
      " [0 0 0 ... 0 0 0]\n",
      " [0 0 0 ... 0 0 0]\n",
      " ...\n",
      " [0 0 0 ... 0 0 0]\n",
      " [0 0 0 ... 0 0 0]\n",
      " [0 0 0 ... 0 0 0]]\n",
      "y =  [[0. 0. 0. ... 9. 9. 9.]]\n"
     ]
    }
   ],
   "source": [
    "from autograd import numpy as np\n",
    "from sklearn.datasets import fetch_mldata\n",
    "# Change data_home to wherever to where you want to download your data\n",
    "mnist = fetch_mldata('MNIST original')\n",
    "\n",
    "# strip off input / output pairs\n",
    "x = mnist.data.T\n",
    "y = mnist.target[np.newaxis,:]\n",
    "\n",
    "print(\"input shape = \" , x.shape)\n",
    "print(\"output shape = \", y.shape)\n",
    "print (\"x = \", x)\n",
    "print (\"y = \", y)"
   ]
  },
  {
   "cell_type": "markdown",
   "metadata": {},
   "source": [
    "Randomly sample input / output pairs."
   ]
  },
  {
   "cell_type": "code",
   "execution_count": 3,
   "metadata": {},
   "outputs": [],
   "source": [
    "# sample indices\n",
    "num_sample = 50000\n",
    "inds = np.random.permutation(y.shape[1])[:num_sample]\n",
    "x_sample = x[:,inds]\n",
    "y_sample = y[:,inds]"
   ]
  },
  {
   "cell_type": "markdown",
   "metadata": {},
   "source": [
    "Use a backend file to extract edge-based histogram features from the raw input."
   ]
  },
  {
   "cell_type": "code",
   "execution_count": 6,
   "metadata": {},
   "outputs": [
    {
     "name": "stdout",
     "output_type": "stream",
     "text": [
      "shape of original input  (784, 50000)\n",
      "shape of transformed input  (1352, 50000)\n",
      "y.shape (1, 70000)\n"
     ]
    }
   ],
   "source": [
    "# extract edge-based features\n",
    "import data_transformer\n",
    "x_sample_edgebased_features = data_transformer.edge_transformer(x_sample)   \n",
    "\n",
    "print('shape of original input ', x_sample.shape)\n",
    "print('shape of transformed input ', x_sample_edgebased_features.shape)\n",
    "print('y_.shape', y.shape)"
   ]
  },
  {
   "cell_type": "code",
   "execution_count": 5,
   "metadata": {},
   "outputs": [
    {
     "name": "stdout",
     "output_type": "stream",
     "text": [
      "[[0 0 0 ... 0 0 0]\n",
      " [0 0 0 ... 0 0 0]\n",
      " [0 0 0 ... 0 0 0]\n",
      " ...\n",
      " [0 0 0 ... 0 0 0]\n",
      " [0 0 0 ... 0 0 0]\n",
      " [0 0 0 ... 0 0 0]]\n",
      "[[0. 0. 0. ... 0. 0. 0.]\n",
      " [0. 0. 0. ... 0. 0. 0.]\n",
      " [0. 0. 0. ... 0. 0. 0.]\n",
      " ...\n",
      " [0. 0. 0. ... 0. 0. 0.]\n",
      " [0. 0. 0. ... 0. 0. 0.]\n",
      " [0. 0. 0. ... 0. 0. 0.]]\n",
      "[[8. 7. 1. ... 8. 1. 5.]]\n"
     ]
    }
   ],
   "source": [
    "print(x_sample)\n",
    "print(x_sample_edgebased_features)\n",
    "print(y_sample)\n",
    "\n",
    "# 1. 随机之后的Y怎么获取？\n",
    "# 2. 随机之后，edgebased应该如何与原对应"
   ]
  },
  {
   "cell_type": "markdown",
   "metadata": {},
   "source": [
    "# Exercise 10.1: Modeling a wave"
   ]
  },
  {
   "cell_type": "code",
   "execution_count": 84,
   "metadata": {},
   "outputs": [],
   "source": [
    "# the import statement for matplotlib\n",
    "import matplotlib.pyplot as plt\n",
    "\n",
    "# import automatic differentiator to compute gradient module\n",
    "from autograd import grad \n",
    "\n",
    "# gradient descent function \n",
    "def gradient_descent(g,alpha,max_its,w):\n",
    "    # compute gradient module using autograd\n",
    "    gradient = grad(g)\n",
    "\n",
    "    # run the gradient descent loop\n",
    "    weight_history = [w] # weight history container\n",
    "    cost_history = [g(w)] # cost function history container\n",
    "    wrong_his = [count_wrong(w)]\n",
    "    for k in range(max_its):\n",
    "        # evaluate the gradient\n",
    "        grad_eval = gradient(w)\n",
    "        grad_eval = np.linalg.norm(grad_eval)\n",
    "        # take gradient descent step\n",
    "        w = w - alpha*grad_eval\n",
    "        \n",
    "        # record weight and cost\n",
    "        weight_history.append(w)\n",
    "        cost_history.append(g(w))\n",
    "        wrong_his.append(count_wrong(w))\n",
    "    return weight_history,cost_history,wrong_his"
   ]
  },
  {
   "cell_type": "code",
   "execution_count": 2,
   "metadata": {},
   "outputs": [],
   "source": [
    "# libraries\n",
    "from autograd import numpy as np\n",
    "\n",
    "# import the dataset\n",
    "csvname = 'datasets/' + 'noisy_sin_sample.csv'\n",
    "data = np.loadtxt(csvname,delimiter=',')\n",
    "\n",
    "# cut into input/output data\n",
    "x = data[0:-1,:]\n",
    "y = data[-1:,:]"
   ]
  },
  {
   "cell_type": "code",
   "execution_count": 28,
   "metadata": {},
   "outputs": [
    {
     "name": "stdout",
     "output_type": "stream",
     "text": [
      "x.shape =  (1, 21)\n",
      "y.shape =  (1, 21)\n"
     ]
    }
   ],
   "source": [
    "print(\"x.shape = \", x.shape)\n",
    "print(\"y.shape = \", y.shape)\n",
    "# ones = np.ones(x.shape)\n",
    "# newx = np.vstack((ones, x))\n",
    "# print(\"newx.shape = \", newx.shape)\n",
    "# print(newx)\n",
    "# print(\"y.shape = \", y.shape)\n",
    "# print(y)\n",
    "w1 = np.array([1., 1.])\n",
    "w2 = np.array([1., 1.])\n",
    "\n",
    "w = np.hstack((w1, w2))\n",
    "\n",
    "\n",
    "alpha = 0.1\n",
    "max_step = 5000\n",
    "\n",
    "def feature_transforms(x, w):\n",
    "    \"\"\"\n",
    "    w: inner params\n",
    "    \"\"\"\n",
    "    #calculate feature transform\n",
    "    f = np.sin(w[0] + np.dot(x.T, w[1:]));\n",
    "    return f.reshape(1, len(f))\n",
    "\n",
    "def model(x,w):\n",
    "    \"\"\"\n",
    "    w: outer params\n",
    "    \"\"\"\n",
    "    length = (int)(len(w)/2)\n",
    "    # feature transformation\n",
    "    f = feature_transforms(x,w[0:length])\n",
    "#     print(\"f.shape = \", f.shape)\n",
    "#     print(\"f.T.shape = \", f.T.shape)\n",
    "#     print(f)\n",
    "    \n",
    "    # compute linear combination and return\n",
    "    a = w[length] + np.dot(f.T,w[length + 1:])\n",
    "    a = a.reshape(1, len(a))\n",
    "#     print(\"a.shape = \", a.shape);\n",
    "    return a\n",
    "\n",
    "def cost_func(w):\n",
    "#     length = (int)(len(w)/2)\n",
    "#     neww = np.vstack((w[0:length], w[length:]))\n",
    "\n",
    "    cost = np.sum((model(x, w)- y)**2)\n",
    "    return cost/float(np.size(y))\n",
    "\n",
    "w_his, cost_his = gradient_descent(cost_func, alpha, max_step, w)\n"
   ]
  },
  {
   "cell_type": "code",
   "execution_count": 84,
   "metadata": {},
   "outputs": [
    {
     "data": {
      "image/png": "[encoded data removed]",
      "text/plain": [
       "<Figure size 432x288 with 1 Axes>"
      ]
     },
     "metadata": {
      "needs_background": "light"
     },
     "output_type": "display_data"
    },
    {
     "data": {
      "image/png": "[encoded data removed]",
      "text/plain": [
       "<Figure size 432x288 with 1 Axes>"
      ]
     },
     "metadata": {
      "needs_background": "light"
     },
     "output_type": "display_data"
    }
   ],
   "source": [
    "w_r = w_his[len(w_his) - 1]\n",
    "# print(w_r)\n",
    "\n",
    "x_r = np.linspace(0, 1, 50).reshape(1, 50)\n",
    "# print(x_r.shape)\n",
    "_y = model(x_r, w_r)\n",
    "\n",
    "\n",
    "\n",
    "plt.figure(1)\n",
    "plt.plot(x[0,:], y[0,:], 'o', label = 'original data')\n",
    "plt.plot(x_r[0,:],_y[0,:], 'g', label = 'regression')\n",
    "plt.xlabel('x')\n",
    "plt.ylabel('y')\n",
    "plt.legend(loc='best')\n",
    "plt.show()\n",
    "\n",
    "f = feature_transforms(x, w_r[0:2])\n",
    "# print(\"f = \\n\", f)\n",
    "# print(\"x = \\n\", x)\n",
    "# print(\"y = \\n\", y)\n",
    "f_r = np.linspace(-1, 1, 50).reshape(1, 50)\n",
    "# print(f.shape)\n",
    "f_y = w_r[2] + np.dot(f_r.T,w_r[2 + 1:])\n",
    "\n",
    "plt.figure(2)\n",
    "plt.plot(f[0,:],y[0,:], 'o', label = 'original data')\n",
    "plt.plot(f_r[0,:],f_y[:], 'g', label = 'regression')\n",
    "plt.xlabel('f(x,w)')\n",
    "plt.ylabel('y')\n",
    "plt.legend(loc='best')\n",
    "plt.show()\n"
   ]
  },
  {
   "cell_type": "markdown",
   "metadata": {
    "slideshow": {
     "slide_type": "slide"
    }
   },
   "source": [
    "# Exercise 10.2: Modeling population growth"
   ]
  },
  {
   "cell_type": "code",
   "execution_count": 116,
   "metadata": {
    "slideshow": {
     "slide_type": "subslide"
    }
   },
   "outputs": [],
   "source": [
    "# libraries\n",
    "from autograd import numpy as np\n",
    "\n",
    "# import the dataset\n",
    "csvname = 'datasets/' + 'yeast.csv'\n",
    "data = np.loadtxt(csvname,delimiter=',')\n",
    "\n",
    "# cut into input/output data\n",
    "x = data[0:-1,:]\n",
    "y = data[-1:,:]"
   ]
  },
  {
   "cell_type": "code",
   "execution_count": 118,
   "metadata": {},
   "outputs": [
    {
     "data": {
      "image/png": "[encoded data removed]",
      "text/plain": [
       "<Figure size 432x288 with 1 Axes>"
      ]
     },
     "metadata": {
      "needs_background": "light"
     },
     "output_type": "display_data"
    }
   ],
   "source": [
    "# print(\"x.shape = \", x.shape)\n",
    "# print(\"y.shape = \", y.shape)\n",
    "\n",
    "w1 = np.array([1., 1.])\n",
    "w2 = np.array([1., 1.])\n",
    "\n",
    "w = np.hstack((w1, w2))\n",
    "\n",
    "alpha = 0.1\n",
    "max_step = 5000\n",
    "\n",
    "meanX = np.sum(x)/float(np.size(x))\n",
    "variX = np.sqrt(np.sum((x - meanX)*(x - meanX))/np.size(x))\n",
    "x = (x - meanX) / variX\n",
    "# print(\"meanX = \", meanX, \", variX = \", variX)\n",
    "\n",
    "def feature_transforms(x, w): # f = tanh(x) = 2 / (1 + exp(-x)) - 1\n",
    "    \"\"\"\n",
    "    w: inner params\n",
    "    \"\"\"\n",
    "    #calculate feature transform\n",
    "    f = 2 / (1 + np.exp(-w[0] - np.dot(x.T, w[1:]))) - 1;\n",
    "    return f.reshape(1, len(f))\n",
    "\n",
    "def model(x,w):\n",
    "    \"\"\"\n",
    "    w: outer params\n",
    "    \"\"\"\n",
    "    length = (int)(len(w)/2)\n",
    "    # feature transformation\n",
    "    f = feature_transforms(x,w[0:length])\n",
    "#     print(\"f.shape = \", f.shape)\n",
    "#     print(\"f.T.shape = \", f.T.shape)\n",
    "#     print(f)\n",
    "    \n",
    "    # compute linear combination and return\n",
    "    a = w[length] + np.dot(f.T,w[length + 1:])\n",
    "    a = a.reshape(1, len(a))\n",
    "#     print(\"a.shape = \", a.shape);\n",
    "    return a\n",
    "\n",
    "def cost_func(w):\n",
    "    cost = np.sum((model(x, w)- y)**2)\n",
    "    return cost/float(np.size(y))\n",
    "\n",
    "w_his, cost_his = gradient_descent(cost_func, alpha, max_step, w)\n",
    "\n",
    "\n",
    "w_r = w_his[len(w_his) - 1]\n",
    "y_pred = model(x, w_r)\n",
    "\n",
    "\n",
    "# print(\"w_r.shape = \",w_r.shape)\n",
    "# print(\"x.shape = \",x.shape)\n",
    "# print(\"y_pred.shape = \",y_pred.shape)\n",
    "\n",
    "\n",
    "\n",
    "plt.figure(1)\n",
    "plt.plot(x[0,:], y[0,:], 'o', label = 'original data')\n",
    "plt.plot(x[0,:],y_pred[0,:], 'g', label = 'regression')\n",
    "plt.xlabel('x(after standard normalization)')\n",
    "plt.ylabel('y')\n",
    "plt.legend(loc='best')\n",
    "plt.show()"
   ]
  },
  {
   "cell_type": "markdown",
   "metadata": {},
   "source": [
    "# Exercise 10.9: A wavy multi-output dataset"
   ]
  },
  {
   "cell_type": "code",
   "execution_count": 102,
   "metadata": {},
   "outputs": [],
   "source": [
    "# libraries\n",
    "from autograd import numpy as np\n",
    "\n",
    "# import the dataset\n",
    "csvname = 'datasets/' + 'diagonal_stripes.csv'\n",
    "data = np.loadtxt(csvname,delimiter=',')\n",
    "\n",
    "# cut into input/output data\n",
    "x = data[0:-1,:]\n",
    "y = data[-1:,:]"
   ]
  },
  {
   "cell_type": "code",
   "execution_count": 108,
   "metadata": {},
   "outputs": [
    {
     "name": "stdout",
     "output_type": "stream",
     "text": [
      "x.shape =  (2, 300)\n",
      "y.shape =  (1, 300)\n"
     ]
    },
    {
     "ename": "IndexError",
     "evalue": "invalid index to scalar variable.",
     "output_type": "error",
     "traceback": [
      "\u001b[0;31m---------------------------------------------------------------------------\u001b[0m",
      "\u001b[0;31mIndexError\u001b[0m                                Traceback (most recent call last)",
      "\u001b[0;32m<ipython-input-108-814f9faac65f>\u001b[0m in \u001b[0;36m<module>\u001b[0;34m()\u001b[0m\n\u001b[1;32m     50\u001b[0m     \u001b[0;32mreturn\u001b[0m \u001b[0mweight_history\u001b[0m\u001b[0;34m,\u001b[0m\u001b[0mcost_history\u001b[0m\u001b[0;34m,\u001b[0m\u001b[0mwrong_his\u001b[0m\u001b[0;34m\u001b[0m\u001b[0m\n\u001b[1;32m     51\u001b[0m \u001b[0;34m\u001b[0m\u001b[0m\n\u001b[0;32m---> 52\u001b[0;31m \u001b[0mw_his\u001b[0m\u001b[0;34m,\u001b[0m \u001b[0mcost_his\u001b[0m\u001b[0;34m,\u001b[0m \u001b[0mwrong_his\u001b[0m \u001b[0;34m=\u001b[0m \u001b[0mgradient_descent\u001b[0m\u001b[0;34m(\u001b[0m\u001b[0mcost_func\u001b[0m\u001b[0;34m,\u001b[0m \u001b[0malpha\u001b[0m\u001b[0;34m,\u001b[0m \u001b[0mmax_step\u001b[0m\u001b[0;34m,\u001b[0m \u001b[0mw\u001b[0m\u001b[0;34m)\u001b[0m\u001b[0;34m\u001b[0m\u001b[0m\n\u001b[0m\u001b[1;32m     53\u001b[0m \u001b[0;34m\u001b[0m\u001b[0m\n\u001b[1;32m     54\u001b[0m \u001b[0mw_res\u001b[0m \u001b[0;34m=\u001b[0m \u001b[0mw_his\u001b[0m\u001b[0;34m[\u001b[0m\u001b[0;34m-\u001b[0m\u001b[0;36m1\u001b[0m\u001b[0;34m]\u001b[0m\u001b[0;34m\u001b[0m\u001b[0m\n",
      "\u001b[0;32m<ipython-input-108-814f9faac65f>\u001b[0m in \u001b[0;36mgradient_descent\u001b[0;34m(g, alpha, max_its, w)\u001b[0m\n\u001b[1;32m     36\u001b[0m     \u001b[0mweight_history\u001b[0m \u001b[0;34m=\u001b[0m \u001b[0;34m[\u001b[0m\u001b[0mw\u001b[0m\u001b[0;34m]\u001b[0m \u001b[0;31m# weight history container\u001b[0m\u001b[0;34m\u001b[0m\u001b[0m\n\u001b[1;32m     37\u001b[0m     \u001b[0mcost_history\u001b[0m \u001b[0;34m=\u001b[0m \u001b[0;34m[\u001b[0m\u001b[0mg\u001b[0m\u001b[0;34m(\u001b[0m\u001b[0mw\u001b[0m\u001b[0;34m)\u001b[0m\u001b[0;34m]\u001b[0m \u001b[0;31m# cost function history container\u001b[0m\u001b[0;34m\u001b[0m\u001b[0m\n\u001b[0;32m---> 38\u001b[0;31m     \u001b[0mwrong_his\u001b[0m \u001b[0;34m=\u001b[0m \u001b[0;34m[\u001b[0m\u001b[0mcount_wrong\u001b[0m\u001b[0;34m(\u001b[0m\u001b[0mw\u001b[0m\u001b[0;34m)\u001b[0m\u001b[0;34m]\u001b[0m\u001b[0;34m\u001b[0m\u001b[0m\n\u001b[0m\u001b[1;32m     39\u001b[0m     \u001b[0;32mfor\u001b[0m \u001b[0mk\u001b[0m \u001b[0;32min\u001b[0m \u001b[0mrange\u001b[0m\u001b[0;34m(\u001b[0m\u001b[0mmax_its\u001b[0m\u001b[0;34m)\u001b[0m\u001b[0;34m:\u001b[0m\u001b[0;34m\u001b[0m\u001b[0m\n\u001b[1;32m     40\u001b[0m         \u001b[0;31m# evaluate the gradient\u001b[0m\u001b[0;34m\u001b[0m\u001b[0;34m\u001b[0m\u001b[0m\n",
      "\u001b[0;32m<ipython-input-108-814f9faac65f>\u001b[0m in \u001b[0;36mcount_wrong\u001b[0;34m(w)\u001b[0m\n\u001b[1;32m     25\u001b[0m     \u001b[0mmiss\u001b[0m \u001b[0;34m=\u001b[0m \u001b[0;36m0\u001b[0m\u001b[0;34m\u001b[0m\u001b[0m\n\u001b[1;32m     26\u001b[0m     \u001b[0;32mfor\u001b[0m \u001b[0mi\u001b[0m \u001b[0;32min\u001b[0m \u001b[0mrange\u001b[0m \u001b[0;34m(\u001b[0m\u001b[0mlen\u001b[0m\u001b[0;34m(\u001b[0m\u001b[0mpre\u001b[0m\u001b[0;34m)\u001b[0m\u001b[0;34m)\u001b[0m\u001b[0;34m:\u001b[0m\u001b[0;34m\u001b[0m\u001b[0m\n\u001b[0;32m---> 27\u001b[0;31m         \u001b[0;32mif\u001b[0m \u001b[0;34m(\u001b[0m \u001b[0mpre\u001b[0m\u001b[0;34m[\u001b[0m\u001b[0;36m0\u001b[0m\u001b[0;34m]\u001b[0m\u001b[0;34m[\u001b[0m\u001b[0mi\u001b[0m\u001b[0;34m]\u001b[0m \u001b[0;34m!=\u001b[0m \u001b[0my\u001b[0m\u001b[0;34m[\u001b[0m\u001b[0;36m0\u001b[0m\u001b[0;34m]\u001b[0m\u001b[0;34m[\u001b[0m\u001b[0mi\u001b[0m\u001b[0;34m]\u001b[0m \u001b[0;34m)\u001b[0m\u001b[0;34m:\u001b[0m\u001b[0;34m\u001b[0m\u001b[0m\n\u001b[0m\u001b[1;32m     28\u001b[0m             \u001b[0mmiss\u001b[0m \u001b[0;34m=\u001b[0m \u001b[0mmiss\u001b[0m \u001b[0;34m+\u001b[0m \u001b[0;36m1\u001b[0m\u001b[0;34m\u001b[0m\u001b[0m\n\u001b[1;32m     29\u001b[0m     \u001b[0;32mreturn\u001b[0m \u001b[0mmiss\u001b[0m\u001b[0;34m\u001b[0m\u001b[0m\n",
      "\u001b[0;31mIndexError\u001b[0m: invalid index to scalar variable."
     ]
    }
   ],
   "source": [
    "print(\"x.shape = \", x.shape)\n",
    "print(\"y.shape = \", y.shape)\n",
    "\n",
    "# x_mean = np.mean(x,axis = 0);\n",
    "# x_std = np.std(x,axis = 0);\n",
    "# x = (x - x_mean) / (x_std + 0.000001)\n",
    "\n",
    "w = np.array([1., 1., 1., 1., 1., 1., 1., 1., 1.])\n",
    "\n",
    "alpha = 0.1\n",
    "max_step = 100\n",
    "\n",
    "def model(x, w):\n",
    "    res = w[0] + w[1]*np.sin(w[2] + np.dot(x.T, w[3:5])) + w[5]*np.cos(w[6] + np.dot(x.T, w[7:9]))\n",
    "    return res.T\n",
    "\n",
    "# we use softmax here\n",
    "def cost_func(w): \n",
    "    cost = np.sum(np.log(1 + np.exp(-y*model(x, w))))\n",
    "    return cost/float(np.size(y))\n",
    "\n",
    "def count_wrong(w):\n",
    "    pre = model(x,w)\n",
    "#     pre = np.sign(pre)\n",
    "#     miss = 0\n",
    "#     for i in range (len(pre)):\n",
    "#         if ( pre[0][i] != y[0][i] ):\n",
    "#             miss = miss + 1\n",
    "#     return miss\n",
    "\n",
    "def gradient_descent(g,alpha,max_its,w):\n",
    "    # compute gradient module using autograd\n",
    "    gradient = grad(g)\n",
    "\n",
    "    # run the gradient descent loop\n",
    "    weight_history = [w] # weight history container\n",
    "    cost_history = [g(w)] # cost function history container\n",
    "    wrong_his = [count_wrong(w)]\n",
    "    for k in range(max_its):\n",
    "        # evaluate the gradient\n",
    "        grad_eval = gradient(w)\n",
    "        grad_norm = np.linalg.norm(grad_eval, ord = 2)\n",
    "        # take gradient descent step\n",
    "        w = w - alpha*grad_eval/(grad_norm+0.00001)\n",
    "        \n",
    "        # record weight and cost\n",
    "        weight_history.append(w)\n",
    "        cost_history.append(g(w))\n",
    "        wrong_his.append(count_wrong(w))\n",
    "    return weight_history,cost_history,wrong_his\n",
    "\n",
    "w_his, cost_his, wrong_his = gradient_descent(cost_func, alpha, max_step, w)\n",
    "\n",
    "w_res = w_his[-1]\n",
    "\n",
    "print(\"cost_his = \\n\", cost_his)\n",
    "pre = model(x, w_res)\n",
    "pre = np.sign(pre)\n",
    "print(\"pre = \\n\", pre)\n",
    "print(\"y = \\n\", y)"
   ]
  },
  {
   "cell_type": "code",
   "execution_count": null,
   "metadata": {},
   "outputs": [],
   "source": []
  },
  {
   "cell_type": "code",
   "execution_count": null,
   "metadata": {},
   "outputs": [],
   "source": []
  }
 ],
 "metadata": {
  "kernelspec": {
   "display_name": "Python 3",
   "language": "python",
   "name": "python3"
  },
  "language_info": {
   "codemirror_mode": {
    "name": "ipython",
    "version": 3
   },
   "file_extension": ".py",
   "mimetype": "text/x-python",
   "name": "python",
   "nbconvert_exporter": "python",
   "pygments_lexer": "ipython3",
   "version": "3.7.0"
  }
 },
 "nbformat": 4,
 "nbformat_minor": 2
}
