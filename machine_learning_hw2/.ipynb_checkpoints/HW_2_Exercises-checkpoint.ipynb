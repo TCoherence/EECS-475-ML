{
 "cells": [
  {
   "cell_type": "markdown",
   "metadata": {},
   "source": [
    "Please perform the following exercises, each of which is worth $10$ points.  The instructions for most can be found at the end of the Chapter notes, however several include additional information / starter code which is provided below."
   ]
  },
  {
   "cell_type": "markdown",
   "metadata": {},
   "source": [
    " - **Chapter 7:** Exercises: 2, 3, and 5\n",
    " \n",
    " - **Chapter 8:** Exercises: 1, 2, and 4"
   ]
  },
  {
   "cell_type": "markdown",
   "metadata": {},
   "source": [
    "Note: in completing Exercises $3$ and $5$ of Chapter 7 and Exercise 5 of Chapter 8 you may want to *flatten* your cost function prior to minimizing it since both the multi-class model and the Linear Autoencoder take in a **matrix** of weights.  You can find instructinos about how to do this via `autograd` in the attached Jupyter notebook called `flattening_functions_using_autograd.ipynb`."
   ]
  },
  {
   "cell_type": "code",
   "execution_count": 7,
   "metadata": {},
   "outputs": [],
   "source": [
    "# import autograd / numpy necessities\n",
    "from autograd import numpy as np\n",
    "\n",
    "# set path to datasets\n",
    "datapath = 'datasets/'\n",
    "\n",
    "# import automatic differentiator to compute gradient module\n",
    "from autograd import grad \n",
    "\n",
    "import copy\n",
    "\n",
    "# gradient descent function \n",
    "def gradient_descent(g,alpha,max_its,w):\n",
    "    # compute gradient module using autograd\n",
    "    gradient = grad(g)\n",
    "\n",
    "    # run the gradient descent loop\n",
    "    weight_history = [w] # weight history container\n",
    "    cost_history = [g(w)] # cost function history container\n",
    "    for k in range(max_its):\n",
    "        # evaluate the gradient\n",
    "        grad_eval = gradient(w)\n",
    "\n",
    "        # take gradient descent step\n",
    "        w = w - alpha*grad_eval\n",
    "        \n",
    "        # record weight and cost\n",
    "        weight_history.append(w)\n",
    "        cost_history.append(g(w))\n",
    "    return weight_history,cost_history\n"
   ]
  },
  {
   "cell_type": "markdown",
   "metadata": {},
   "source": [
    "# Chapter 7 Exercise 2"
   ]
  },
  {
   "cell_type": "code",
   "execution_count": 4,
   "metadata": {},
   "outputs": [
    {
     "name": "stdout",
     "output_type": "stream",
     "text": [
      "Misclassification number is :  9\n"
     ]
    }
   ],
   "source": [
    "# location of dataset\n",
    "csvname = datapath + '4class_data.csv'\n",
    "data = np.loadtxt(csvname,delimiter = ',')\n",
    "\n",
    "# get input/output pairs\n",
    "x = data[:-1,:]\n",
    "y = data[-1:,:] \n",
    "# print (\"x.shape = \",x.shape)\n",
    "# print (\"y.shape = \",y.shape)\n",
    "# print (\"np.size(y) = \",np.size(y))\n",
    "# print (y)\n",
    "cnt = []\n",
    "cnt.append(y[0][0])\n",
    "for i in range (np.size(y)) :\n",
    "    if ( i > 0 and y[0][i] != y[0][i - 1] ):\n",
    "        cnt.append(y[0][i])\n",
    "\n",
    "alpha = 0.05\n",
    "max_step = 1000\n",
    "ones = np.ones(len(x[0]))\n",
    "newx = np.vstack((ones, x))\n",
    "w = np.zeros([len(cnt), len(newx)])\n",
    "\n",
    "def model(w, x):\n",
    "    return np.dot(w, x)\n",
    "\n",
    "def softmax_func(w):\n",
    "    cost = np.sum(np.log(1 + np.exp(-y*model(w, newx))))\n",
    "    return cost/float(np.size(y))\n",
    "\n",
    "\n",
    "_y = copy.deepcopy(y)\n",
    "\n",
    "for i in range (len(cnt)) :\n",
    "    _w = w[i]\n",
    "#     print(_w.shape)\n",
    "    # build new y\n",
    "    for j in range (np.size(y)) :\n",
    "        if _y[0][j] == cnt[i] :\n",
    "            y[0][j] = 1\n",
    "        else :\n",
    "            y[0][j] = -1\n",
    "#     print(y)\n",
    "    w_his, cost_his = gradient_descent(softmax_func, alpha, max_step, _w)\n",
    "    w[i] = w_his[max_step - 1]\n",
    "    \n",
    "# print(w)\n",
    "# print(w.shape)\n",
    "y_ = np.dot(w, newx)\n",
    "y_prid = np.argmax(y_, axis=0) \n",
    "# print(y_prid)\n",
    "\n",
    "miss = 0\n",
    "for i in range (len(y_prid)):\n",
    "    if _y[0][i] != y_prid[i] :\n",
    "        miss += 1\n",
    "        \n",
    "print(\"Misclassification number is : \", miss)"
   ]
  },
  {
   "cell_type": "markdown",
   "metadata": {},
   "source": [
    "# Chapter 7 Exercise 3"
   ]
  },
  {
   "cell_type": "code",
   "execution_count": 5,
   "metadata": {},
   "outputs": [
    {
     "name": "stdout",
     "output_type": "stream",
     "text": [
      "misclassification of perceptron is : 0\n"
     ]
    }
   ],
   "source": [
    "# location of dataset\n",
    "csvname = datapath + '3class_data.csv'\n",
    "data = np.loadtxt(csvname,delimiter = ',')\n",
    "\n",
    "# get input/output pairs\n",
    "x = data[:-1,:]\n",
    "y = data[-1:,:] \n",
    "cnt = []\n",
    "cnt.append(y[0][0])\n",
    "for i in range (np.size(y)) :\n",
    "    if ( i > 0 and y[0][i] != y[0][i - 1] ):\n",
    "        cnt.append(y[0][i])\n",
    "\n",
    "alpha = 0.05\n",
    "max_step = 500\n",
    "ones = np.ones(len(x[0]))\n",
    "newx = np.vstack((ones, x))\n",
    "w = np.ones([len(cnt), len(newx)])\n",
    "\n",
    "# print (\"newx.shape = \",newx.shape)\n",
    "# print (\"w.shape = \", w.shape)\n",
    "# print (\"y = \", y)\n",
    "\n",
    "\n",
    "\n",
    "\n",
    "def model(w, x):\n",
    "    return np.dot(w, x)\n",
    "\n",
    "# multiclass perceptron\n",
    "lam = 10**-5 # our regularization paramter\n",
    "def multiclass_perceptron(w):\n",
    "    # pre-compute predictions on all points\n",
    "    all_evals = model(w, newx)\n",
    "    \n",
    "    # compute maximum across data points\n",
    "    a = np.max(all_evals,axis = 0)\n",
    "    \n",
    "    # compute cost in compact form using numpy broadcasting\n",
    "    b = all_evals[y.astype(int).flatten(),np.arange(np.size(y))]\n",
    "    \n",
    "#     print (\"all_evals.shape =\", all_evals.shape)\n",
    "#     print (\"a.shape = \", a.shape)\n",
    "#     print (\"b.shape = \", b.shape)\n",
    "#     print (\"all_evals = \", all_evals)\n",
    "#     print (\"a = \", a)\n",
    "#     print (\"b = \", b)\n",
    "    \n",
    "    cost = np.sum(a - b)\n",
    "\n",
    "    # add regularizer\n",
    "    cost = cost + lam*np.linalg.norm(w[:,:],'fro')**2\n",
    "\n",
    "    # return average\n",
    "    return cost/float(np.size(y))\n",
    "\n",
    "def multiclass_softmax(w):\n",
    "    # pre-compute predictions on all points\n",
    "    all_evals = model(w, newx)\n",
    "    \n",
    "    # compute maximum across data points\n",
    "    a = np.log(np.sum(np.exp(all_evals)))\n",
    "\n",
    "    # compute cost in compact form using numpy broadcasting\n",
    "    b = all_evals[y.astype(int).flatten(),np.arange(np.size(y))]\n",
    "    \n",
    "    cost = np.sum(a - b)\n",
    "\n",
    "    # add regularizer\n",
    "    cost = cost + lam*np.linalg.norm(w[:,:],'fro')**2\n",
    "\n",
    "    # return average\n",
    "    return cost/float(np.size(y))\n",
    "\n",
    "w_per_his, cost_per_his = gradient_descent(multiclass_perceptron, alpha, max_step, w)\n",
    "w_soft_his, cost_soft_his = gradient_descent(multiclass_softmax, alpha, max_step, w)\n",
    "\n",
    "w_per_prid = w_per_his[len(w_per_his) - 1]\n",
    "w_soft_prid = w_soft_his[len(w_soft_his) - 1]\n",
    "y_per_evals = model(w_per_prid, newx)\n",
    "y_soft_evals = model(w_soft_prid, newx)\n",
    "\n",
    "y_per_prid = np.argmax(y_per_evals, axis = 0)\n",
    "y_soft_prid = np.argmax(y_soft_evals, axis = 0)\n",
    "\n",
    "# print (y_per_prid)\n",
    "# print (y_soft_prid)\n",
    "\n",
    "y_per_miss = 0\n",
    "y_soft_miss = 0\n",
    "\n",
    "for i in range (np.size(y)):\n",
    "    _y = int(y[0][i])\n",
    "    if ( _y != y_per_prid[i] ):\n",
    "        y_per_miss += 1\n",
    "    if ( _y != y_soft_prid[i] ) :\n",
    "        y_soft_miss += 1\n",
    "\n",
    "print (\"misclassification of perceptron is :\", y_per_miss)\n",
    "# print (\"misclassification of softmax is :\", y_soft_miss)\n"
   ]
  },
  {
   "cell_type": "markdown",
   "metadata": {},
   "source": [
    "# Chapter 7 Exercise 5"
   ]
  },
  {
   "cell_type": "code",
   "execution_count": 6,
   "metadata": {},
   "outputs": [
    {
     "name": "stdout",
     "output_type": "stream",
     "text": [
      "misclassification of softmax is : 9\n"
     ]
    }
   ],
   "source": [
    "# location of dataset\n",
    "csvname = datapath + '4class_data.csv'\n",
    "data = np.loadtxt(csvname,delimiter = ',')\n",
    "\n",
    "# get input/output pairs\n",
    "x = data[:-1,:]\n",
    "y = data[-1:,:] \n",
    "cnt = []\n",
    "cnt.append(y[0][0])\n",
    "for i in range (np.size(y)) :\n",
    "    if ( i > 0 and y[0][i] != y[0][i - 1] ):\n",
    "        cnt.append(y[0][i])\n",
    "\n",
    "alpha = 0.05\n",
    "max_step = 500\n",
    "ones = np.ones(len(x[0]))\n",
    "newx = np.vstack((ones, x))\n",
    "w = np.ones([len(cnt), len(newx)])\n",
    "\n",
    "# print (\"newx.shape = \",newx.shape)\n",
    "# print (\"w.shape = \", w.shape)\n",
    "# print (\"y = \", y)\n",
    "\n",
    "\n",
    "\n",
    "\n",
    "def model(w, x):\n",
    "    return np.dot(w, x)\n",
    "\n",
    "# multiclass perceptron\n",
    "lam = 10**-5 # our regularization paramter\n",
    "def multiclass_perceptron(w):\n",
    "    # pre-compute predictions on all points\n",
    "    all_evals = model(w, newx)\n",
    "    \n",
    "    # compute maximum across data points\n",
    "    a = np.max(all_evals,axis = 0)\n",
    "    \n",
    "    # compute cost in compact form using numpy broadcasting\n",
    "    b = all_evals[y.astype(int).flatten(),np.arange(np.size(y))]\n",
    "    \n",
    "#     print (\"all_evals.shape =\", all_evals.shape)\n",
    "#     print (\"a.shape = \", a.shape)\n",
    "#     print (\"b.shape = \", b.shape)\n",
    "#     print (\"all_evals = \", all_evals)\n",
    "#     print (\"a = \", a)\n",
    "#     print (\"b = \", b)\n",
    "    \n",
    "    cost = np.sum(a - b)\n",
    "\n",
    "    # add regularizer\n",
    "    cost = cost + lam*np.linalg.norm(w[:,:],'fro')**2\n",
    "\n",
    "    # return average\n",
    "    return cost/float(np.size(y))\n",
    "\n",
    "def multiclass_softmax(w):\n",
    "    # pre-compute predictions on all points\n",
    "    all_evals = model(w, newx)\n",
    "    \n",
    "    # compute maximum across data points\n",
    "    a = np.log(np.sum(np.exp(all_evals)))\n",
    "\n",
    "    # compute cost in compact form using numpy broadcasting\n",
    "    b = all_evals[y.astype(int).flatten(),np.arange(np.size(y))]\n",
    "    \n",
    "    cost = np.sum(a - b)\n",
    "\n",
    "    # add regularizer\n",
    "    cost = cost + lam*np.linalg.norm(w[:,:],'fro')**2\n",
    "\n",
    "    # return average\n",
    "    return cost/float(np.size(y))\n",
    "\n",
    "w_per_his, cost_per_his = gradient_descent(multiclass_perceptron, alpha, max_step, w)\n",
    "w_soft_his, cost_soft_his = gradient_descent(multiclass_softmax, alpha, max_step, w)\n",
    "\n",
    "w_per_prid = w_per_his[len(w_per_his) - 1]\n",
    "w_soft_prid = w_soft_his[len(w_soft_his) - 1]\n",
    "y_per_evals = model(w_per_prid, newx)\n",
    "y_soft_evals = model(w_soft_prid, newx)\n",
    "\n",
    "y_per_prid = np.argmax(y_per_evals, axis = 0)\n",
    "y_soft_prid = np.argmax(y_soft_evals, axis = 0)\n",
    "\n",
    "# print (y_per_prid)\n",
    "# print (y_soft_prid)\n",
    "\n",
    "y_per_miss = 0\n",
    "y_soft_miss = 0\n",
    "\n",
    "for i in range (np.size(y)):\n",
    "    _y = int(y[0][i])\n",
    "    if ( _y != y_per_prid[i] ):\n",
    "        y_per_miss += 1\n",
    "    if ( _y != y_soft_prid[i] ) :\n",
    "        y_soft_miss += 1\n",
    "\n",
    "# print (\"misclassification of perceptron is :\", y_per_miss)\n",
    "print (\"misclassification of softmax is :\", y_soft_miss)"
   ]
  },
  {
   "cell_type": "markdown",
   "metadata": {},
   "source": [
    "# Chapter 8 Exercise 1"
   ]
  },
  {
   "cell_type": "markdown",
   "metadata": {},
   "source": [
    "Because in Equation 8.11, we have the same number of basis vectors with $x_p$ dimension, so when using a standard basis, Equation 8.11 can be simplified as follows:  \n",
    "$$ \\boldsymbol w_p = \\boldsymbol x_p $$"
   ]
  },
  {
   "cell_type": "markdown",
   "metadata": {},
   "source": [
    "# Chapter 8 Exercise 2"
   ]
  },
  {
   "cell_type": "code",
   "execution_count": 30,
   "metadata": {},
   "outputs": [
    {
     "data": {
      "image/png": "[encoded data removed]",
      "text/plain": [
       "<Figure size 288x288 with 1 Axes>"
      ]
     },
     "metadata": {
      "needs_background": "light"
     },
     "output_type": "display_data"
    },
    {
     "data": {
      "image/png": "[encoded data removed]",
      "text/plain": [
       "<Figure size 288x288 with 1 Axes>"
      ]
     },
     "metadata": {
      "needs_background": "light"
     },
     "output_type": "display_data"
    }
   ],
   "source": [
    "import matplotlib.pyplot as plt\n",
    "\n",
    "# location of dataset\n",
    "csvname = datapath + '2d_span_data_centered.csv'\n",
    "\n",
    "# load in dataset\n",
    "x = np.loadtxt(csvname,delimiter = ',')\n",
    "# print (\"x.shape = \", x.shape)\n",
    "# print (\"x = \", x)\n",
    "\n",
    "C = np.array([[2,1],[1,2]])\n",
    "# print (\"C.shape = \", C.shape)\n",
    "# print (\"C = \", C)\n",
    "w = np.zeros((2, 50))\n",
    "# print (\"w = \", w.shape)\n",
    "\n",
    "\n",
    "alpha = 0.05\n",
    "step = 2000\n",
    "\n",
    "def model(x, w):\n",
    "    _y = np.dot(x, w)\n",
    "    return _y\n",
    "\n",
    "def cost(w):\n",
    "    cost = np.sum((model(C, w) - x)**2)\n",
    "    return cost/float(np.size(x[0]))\n",
    "    \n",
    "w_his, cost_his = gradient_descent(cost, alpha, step, w)\n",
    "\n",
    "# print(w_his[len(w_his) - 1])\n",
    "w = w_his[len(w_his) - 1]\n",
    "\n",
    "\n",
    "\n",
    "\n",
    "# plt.figure()\n",
    "figure = plt.figure(figsize = (4,4))\n",
    "ax = plt.gca()\n",
    "plt.scatter(x[0,:],x[1,:],s=60,c='k',edgecolor='w')\n",
    "plt.xlabel('$x_1$')\n",
    "plt.ylabel('$x_2$')\n",
    "plt.title('Original data')\n",
    "\n",
    "plt.show()\n",
    "\n",
    "figure = plt.figure(figsize = (4,4))\n",
    "plt.scatter(w[0,:],w[1,:],s=60,c='k',edgecolor='w')\n",
    "plt.xlabel('$c_1$')\n",
    "plt.ylabel('$c_2$')\n",
    "plt.title('encoded data')\n",
    "plt.show()"
   ]
  },
  {
   "cell_type": "markdown",
   "metadata": {},
   "source": [
    "# Chapter 8 Exercise 4"
   ]
  },
  {
   "cell_type": "code",
   "execution_count": 34,
   "metadata": {},
   "outputs": [
    {
     "data": {
      "text/plain": [
       "([], <a list of 0 Text yticklabel objects>)"
      ]
     },
     "execution_count": 34,
     "metadata": {},
     "output_type": "execute_result"
    },
    {
     "data": {
      "image/png": "[encoded data removed]",
      "text/plain": [
       "<Figure size 432x288 with 1 Axes>"
      ]
     },
     "metadata": {},
     "output_type": "display_data"
    }
   ],
   "source": [
    "import matplotlib.pyplot as plt\n",
    "import plot3d as plt3d\n",
    "\n",
    "\n",
    "# location of dataset\n",
    "csvname = datapath + '2d_span_data_centered.csv'\n",
    "\n",
    "# load in dataset\n",
    "x = np.loadtxt(csvname,delimiter = ',') \n",
    "# print (x)\n",
    "\n",
    "# plot dataset\n",
    "# figure = plt.figure(figsize = (4,4))\n",
    "# plt.scatter(x[0,:],x[1,:],s=60,c='k',edgecolor='w')\n",
    "# plt.show()\n",
    "\n",
    "\n",
    "def cost_func(C):\n",
    "    cost = np.sum((np.dot(np.dot(C, C.T), x) - x)**2)\n",
    "    return cost/float(np.size(x[0]))\n",
    "\n",
    "def cost_trans(c1, c2):\n",
    "    res = np.zeros(c1.shape)\n",
    "    for i in range (len(c1)) :\n",
    "        for j in range (len(c2)) :\n",
    "            C = np.array([[c1[0][i]],[c2[j][0]]])\n",
    "            res[i][j] = cost_func(C)\n",
    "    return res\n",
    "\n",
    "n = 64\n",
    "c1 = np.linspace(-5.1, 5.1, n)\n",
    "c2 = np.linspace(-5.1, 5.1, n)\n",
    "# print (\"c.shape = \", c1.shape)\n",
    "# print (c1)\n",
    "C1, C2 = np.meshgrid(c1, c2)\n",
    "\n",
    "# print (\"C1 = \")\n",
    "# print (C1)\n",
    "\n",
    "# print (\"C2 = \")\n",
    "# print (C2)\n",
    "\n",
    "\n",
    "# kwargs = {'wmin': -.9, 'wmax': .9, 'view': [40, 20], 'num_contours': 100}\n",
    "# vis = plt3d.visualizer\n",
    "# vis.draw_2d(vis, cost_func, **kwargs)\n",
    "# print (\"Finish the plot\")\n",
    "\n",
    "plt.figure()\n",
    "plt.contourf(C1, C2, cost_trans(C1, C2),[1,2,5,10,20,50,100,200,500,1000,2000, 5000,10000], alpha = .75, cmap=plt.cm.Blues_r) # \n",
    "Contour = plt.contour(C1, C2, cost_trans(C1, C2), 8, colors='black')\n",
    "plt.clabel(Contour, inline=True, fontsize=10)\n",
    "# hide the axes\n",
    "plt.xticks(())\n",
    "plt.yticks(())"
   ]
  },
  {
   "cell_type": "markdown",
   "metadata": {},
   "source": [
    "- From this figure we know that there are 2 global minima. \n",
    "- These 2 global minima in fact represent the same thing but in opposite direction. \n",
    "- They make data closer."
   ]
  }
 ],
 "metadata": {
  "kernelspec": {
   "display_name": "Python 3",
   "language": "python",
   "name": "python3"
  },
  "language_info": {
   "codemirror_mode": {
    "name": "ipython",
    "version": 3
   },
   "file_extension": ".py",
   "mimetype": "text/x-python",
   "name": "python",
   "nbconvert_exporter": "python",
   "pygments_lexer": "ipython3",
   "version": "3.7.0"
  }
 },
 "nbformat": 4,
 "nbformat_minor": 2
}
